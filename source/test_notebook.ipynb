{
 "cells": [
  {
   "cell_type": "code",
   "execution_count": 1,
   "metadata": {},
   "outputs": [],
   "source": [
    "from gaussians import Gaussian"
   ]
  },
  {
   "cell_type": "code",
   "execution_count": 2,
   "metadata": {},
   "outputs": [],
   "source": [
    "import torch\n",
    "\n",
    "from matplotlib import pyplot as plt\n",
    "import numpy as np"
   ]
  },
  {
   "cell_type": "code",
   "execution_count": 3,
   "metadata": {},
   "outputs": [],
   "source": [
    "from ubvi import UBVI"
   ]
  },
  {
   "cell_type": "code",
   "execution_count": 25,
   "metadata": {},
   "outputs": [],
   "source": [
    "example_log_pdf_0 = lambda x: -((x - 1) ** 2).sum(dim=-1) / 2"
   ]
  },
  {
   "cell_type": "code",
   "execution_count": 30,
   "metadata": {},
   "outputs": [],
   "source": [
    "example_log_pdf_1 = lambda x: -torch.log(1 + (x ** 2).sum(dim=-1))"
   ]
  },
  {
   "cell_type": "code",
   "execution_count": 33,
   "metadata": {},
   "outputs": [],
   "source": [
    "test = UBVI(example_log_pdf_1, Gaussian(1), num_opt_steps=1000, n_samples=1000, n_init=100, init_inflation=100)"
   ]
  },
  {
   "cell_type": "code",
   "execution_count": 34,
   "metadata": {
    "scrolled": false
   },
   "outputs": [
    {
     "name": "stdout",
     "output_type": "stream",
     "text": [
      "Initializing component 1... \n",
      "          Iteration           |          Best param          |        Best objective        \n",
      "              0               | tensor([-46.2004,   0.0000]) |        tensor(3.0168)        \n",
      "              99              |  tensor([-2.3787,  0.0000])  |        tensor(0.0322)        \n",
      "Initialization of component 1 complete, x0 = tensor([-2.3787,  0.0000])\n",
      "Optimizing component 1... \n",
      "Optimization of component 1 complete\n",
      "Updating weights...\n",
      "Weight update complete...\n",
      "Component 1:\n",
      "Hellinger Dist Sq: tensor(0.0218, grad_fn=<RsubBackward1>)\n",
      "Params:{'mus': tensor([[-0.0152]], grad_fn=<SliceBackward>), 'sigmas': tensor([[3.7639]], grad_fn=<ExpBackward>)}\n",
      "Weights: tensor([1.])\n",
      "Initializing component 2... \n",
      "          Iteration           |          Best param          |        Best objective        \n",
      "              0               |tensor([19.8012, -0.2463], grad_fn=<CatBackward>)|tensor(2.2928, grad_fn=<NegBackward>)\n",
      "              99              |tensor([8.7076, 2.3745], grad_fn=<CatBackward>)|tensor(1.0587, grad_fn=<NegBackward>)\n",
      "Initialization of component 2 complete, x0 = tensor([8.7076, 2.3745], grad_fn=<CatBackward>)\n",
      "Optimizing component 2... \n",
      "Optimization of component 2 complete\n",
      "Updating weights...\n",
      "tensor([[1.0000, 0.3284],\n",
      "        [0.3284, 1.0000]], grad_fn=<CopySlices>)\n",
      "Weight update complete...\n",
      "Component 2:\n",
      "Hellinger Dist Sq: tensor(0.0261, grad_fn=<RsubBackward1>)\n",
      "Params:{'mus': tensor([[-0.0152],\n",
      "        [11.5611]], grad_fn=<SliceBackward>), 'sigmas': tensor([[ 3.7639],\n",
      "        [35.7956]], grad_fn=<ExpBackward>)}\n",
      "Weights: tensor([0.8667, 0.2897], grad_fn=<MaxBackward2>)\n",
      "Initializing component 3... \n",
      "          Iteration           |          Best param          |        Best objective        \n",
      "              0               |tensor([79.9329,  0.3134], grad_fn=<CatBackward>)|tensor(3.5232, grad_fn=<NegBackward>)\n",
      "              99              |tensor([-11.6283,   2.5230], grad_fn=<CatBackward>)|tensor(1.2095, grad_fn=<NegBackward>)\n",
      "Initialization of component 3 complete, x0 = tensor([-11.6283,   2.5230], grad_fn=<CatBackward>)\n",
      "Optimizing component 3... \n",
      "Optimization of component 3 complete\n",
      "Updating weights...\n",
      "tensor([[1.0000, 0.3284, 0.1780],\n",
      "        [0.3284, 1.0000, 0.0780],\n",
      "        [0.1780, 0.0780, 1.0000]], grad_fn=<CopySlices>)\n",
      "Weight update complete...\n",
      "Component 3:\n",
      "Hellinger Dist Sq: tensor(0.0293, grad_fn=<RsubBackward1>)\n",
      "Params:{'mus': tensor([[ -0.0152],\n",
      "        [ 11.5611],\n",
      "        [-12.7780]], grad_fn=<SliceBackward>), 'sigmas': tensor([[ 3.7639],\n",
      "        [35.7956],\n",
      "        [22.5502]], grad_fn=<ExpBackward>)}\n",
      "Weights: tensor([0.8074, 0.2777, 0.2234], grad_fn=<MaxBackward2>)\n",
      "Initializing component 4... \n",
      "          Iteration           |          Best param          |        Best objective        \n",
      "              0               |tensor([45.0039,  2.8954], grad_fn=<CatBackward>)|tensor(2.2592, grad_fn=<NegBackward>)\n",
      "              99              |tensor([-33.3869,   2.6133], grad_fn=<CatBackward>)|tensor(2.1793, grad_fn=<NegBackward>)\n",
      "Initialization of component 4 complete, x0 = tensor([-33.3869,   2.6133], grad_fn=<CatBackward>)\n",
      "Optimizing component 4... \n",
      "Optimization of component 4 complete\n",
      "Updating weights...\n",
      "tensor([[1.0000e+00, 3.2844e-01, 1.7805e-01, 6.1588e-04],\n",
      "        [3.2844e-01, 1.0000e+00, 7.7964e-02, 5.3868e-04],\n",
      "        [1.7805e-01, 7.7964e-02, 1.0000e+00, 7.7440e-02],\n",
      "        [6.1588e-04, 5.3868e-04, 7.7440e-02, 1.0000e+00]],\n",
      "       grad_fn=<CopySlices>)\n",
      "Weight update complete...\n",
      "Component 4:\n",
      "Hellinger Dist Sq: tensor(0.0279, grad_fn=<RsubBackward1>)\n",
      "Params:{'mus': tensor([[-1.5221e-02],\n",
      "        [ 1.1561e+01],\n",
      "        [-1.2778e+01],\n",
      "        [-4.0683e+01]], grad_fn=<SliceBackward>), 'sigmas': tensor([[ 3.7639],\n",
      "        [35.7956],\n",
      "        [22.5502],\n",
      "        [55.0056]], grad_fn=<ExpBackward>)}\n",
      "Weights: tensor([0.8061, 0.2770, 0.2167, 0.0754], grad_fn=<MaxBackward2>)\n",
      "Initializing component 5... \n",
      "          Iteration           |          Best param          |        Best objective        \n",
      "              0               |tensor([-24.3068,   1.2999], grad_fn=<CatBackward>)|tensor(5.0542, grad_fn=<NegBackward>)\n",
      "              99              |tensor([0.6965, 0.5320], grad_fn=<CatBackward>)|tensor(1.8179, grad_fn=<NegBackward>)\n",
      "Initialization of component 5 complete, x0 = tensor([0.6965, 0.5320], grad_fn=<CatBackward>)\n",
      "Optimizing component 5... \n",
      "Optimization of component 5 complete\n",
      "Updating weights...\n",
      "tensor([[1.0000e+00, 3.2844e-01, 1.7805e-01, 6.1588e-04, 5.9899e-01],\n",
      "        [3.2844e-01, 1.0000e+00, 7.7964e-02, 5.3868e-04, 1.3624e-01],\n",
      "        [1.7805e-01, 7.7964e-02, 1.0000e+00, 7.7440e-02, 6.4504e-02],\n",
      "        [6.1588e-04, 5.3868e-04, 7.7440e-02, 1.0000e+00, 1.7238e-04],\n",
      "        [5.9899e-01, 1.3624e-01, 6.4504e-02, 1.7238e-04, 1.0000e+00]],\n",
      "       grad_fn=<CopySlices>)\n",
      "Weight update complete...\n",
      "Component 5:\n",
      "Hellinger Dist Sq: tensor(0.0109, grad_fn=<RsubBackward1>)\n",
      "Params:{'mus': tensor([[-1.5221e-02],\n",
      "        [ 1.1561e+01],\n",
      "        [-1.2778e+01],\n",
      "        [-4.0683e+01],\n",
      "        [-1.7044e-02]], grad_fn=<SliceBackward>), 'sigmas': tensor([[ 3.7639],\n",
      "        [35.7956],\n",
      "        [22.5502],\n",
      "        [55.0056],\n",
      "        [ 0.1296]], grad_fn=<ExpBackward>)}\n",
      "Weights: tensor([0.6209, 0.2885, 0.2231, 0.0728, 0.2655], grad_fn=<MaxBackward2>)\n",
      "Initializing component 6... \n",
      "          Iteration           |          Best param          |        Best objective        \n",
      "              0               |tensor([-2.0443,  4.1767], grad_fn=<CatBackward>)|             inf              \n",
      "              99              |tensor([34.3193,  4.1532], grad_fn=<CatBackward>)|tensor(0.6238, grad_fn=<NegBackward>)\n",
      "Initialization of component 6 complete, x0 = tensor([34.3193,  4.1532], grad_fn=<CatBackward>)\n",
      "Optimizing component 6... \n",
      "Optimization of component 6 complete\n",
      "Updating weights...\n",
      "tensor([[1.0000e+00, 3.2844e-01, 1.7805e-01, 6.1588e-04, 5.9899e-01, 1.9935e-05],\n",
      "        [3.2844e-01, 1.0000e+00, 7.7964e-02, 5.3868e-04, 1.3624e-01, 5.9102e-02],\n",
      "        [1.7805e-01, 7.7964e-02, 1.0000e+00, 7.7440e-02, 6.4504e-02, 4.6783e-06],\n",
      "        [6.1588e-04, 5.3868e-04, 7.7440e-02, 1.0000e+00, 1.7238e-04, 1.1913e-08],\n",
      "        [5.9899e-01, 1.3624e-01, 6.4504e-02, 1.7238e-04, 1.0000e+00, 2.8461e-06],\n",
      "        [1.9935e-05, 5.9102e-02, 4.6783e-06, 1.1913e-08, 2.8461e-06, 1.0000e+00]],\n",
      "       grad_fn=<CopySlices>)\n",
      "Weight update complete...\n",
      "Component 6:\n",
      "Hellinger Dist Sq: tensor(0.0097, grad_fn=<RsubBackward1>)\n",
      "Params:{'mus': tensor([[-1.5221e-02],\n",
      "        [ 1.1561e+01],\n",
      "        [-1.2778e+01],\n",
      "        [-4.0683e+01],\n",
      "        [-1.7044e-02],\n",
      "        [ 3.9485e+01]], grad_fn=<SliceBackward>), 'sigmas': tensor([[ 3.7639],\n",
      "        [35.7956],\n",
      "        [22.5502],\n",
      "        [55.0056],\n",
      "        [ 0.1296],\n",
      "        [33.1323]], grad_fn=<ExpBackward>)}\n",
      "Weights: tensor([0.6213, 0.2836, 0.2227, 0.0727, 0.2646, 0.0640],\n",
      "       grad_fn=<MaxBackward2>)\n",
      "Initializing component 7... \n",
      "          Iteration           |          Best param          |        Best objective        \n",
      "              0               |tensor([-7.1834,  2.9799], grad_fn=<CatBackward>)|             inf              \n",
      "              99              |tensor([0.9796, 0.7294], grad_fn=<CatBackward>)|tensor(1.8698, grad_fn=<NegBackward>)\n",
      "Initialization of component 7 complete, x0 = tensor([0.9796, 0.7294], grad_fn=<CatBackward>)\n",
      "Optimizing component 7... \n",
      "Optimization of component 7 complete\n",
      "Updating weights...\n",
      "tensor([[1.0000e+00, 3.2844e-01, 1.7805e-01, 6.1588e-04, 5.9899e-01, 1.9935e-05,\n",
      "         9.1155e-01],\n",
      "        [3.2844e-01, 1.0000e+00, 7.7964e-02, 5.3868e-04, 1.3624e-01, 5.9102e-02,\n",
      "         2.5518e-01],\n",
      "        [1.7805e-01, 7.7964e-02, 1.0000e+00, 7.7440e-02, 6.4504e-02, 4.6783e-06,\n",
      "         1.0423e-01],\n",
      "        [6.1588e-04, 5.3868e-04, 7.7440e-02, 1.0000e+00, 1.7238e-04, 1.1913e-08,\n",
      "         2.8757e-04],\n",
      "        [5.9899e-01, 1.3624e-01, 6.4504e-02, 1.7238e-04, 1.0000e+00, 2.8461e-06,\n",
      "         7.4636e-01],\n",
      "        [1.9935e-05, 5.9102e-02, 4.6783e-06, 1.1913e-08, 2.8461e-06, 1.0000e+00,\n",
      "         8.8923e-06],\n",
      "        [9.1155e-01, 2.5518e-01, 1.0423e-01, 2.8757e-04, 7.4636e-01, 8.8923e-06,\n",
      "         1.0000e+00]], grad_fn=<CopySlices>)\n",
      "Weight update complete...\n",
      "Component 7:\n",
      "Hellinger Dist Sq: tensor(0.0099, grad_fn=<RsubBackward1>)\n",
      "Params:{'mus': tensor([[-1.5221e-02],\n",
      "        [ 1.1561e+01],\n",
      "        [-1.2778e+01],\n",
      "        [-4.0683e+01],\n",
      "        [-1.7044e-02],\n",
      "        [ 3.9485e+01],\n",
      "        [ 4.3072e-01]], grad_fn=<SliceBackward>), 'sigmas': tensor([[ 3.7639],\n",
      "        [35.7956],\n",
      "        [22.5502],\n",
      "        [55.0056],\n",
      "        [ 0.1296],\n",
      "        [33.1323],\n",
      "        [ 1.1557]], grad_fn=<ExpBackward>)}\n",
      "Weights: tensor([0.4948, 0.2879, 0.2301, 0.0720, 0.2125, 0.0637, 0.1685],\n",
      "       grad_fn=<MaxBackward2>)\n",
      "Initializing component 8... \n",
      "          Iteration           |          Best param          |        Best objective        \n",
      "              0               |tensor([12.9834,  1.3478], grad_fn=<CatBackward>)|             inf              \n",
      "              99              |tensor([-1.5198,  1.2317], grad_fn=<CatBackward>)|tensor(1.7683, grad_fn=<NegBackward>)\n",
      "Initialization of component 8 complete, x0 = tensor([-1.5198,  1.2317], grad_fn=<CatBackward>)\n",
      "Optimizing component 8... \n"
     ]
    },
    {
     "name": "stdout",
     "output_type": "stream",
     "text": [
      "Optimization of component 8 complete\n",
      "Updating weights...\n",
      "tensor([[1.0000e+00, 3.2844e-01, 1.7805e-01, 6.1588e-04, 5.9899e-01, 1.9935e-05,\n",
      "         9.1155e-01, 8.0617e-01],\n",
      "        [3.2844e-01, 1.0000e+00, 7.7964e-02, 5.3868e-04, 1.3624e-01, 5.9102e-02,\n",
      "         2.5518e-01, 2.1523e-01],\n",
      "        [1.7805e-01, 7.7964e-02, 1.0000e+00, 7.7440e-02, 6.4504e-02, 4.6783e-06,\n",
      "         1.0423e-01, 3.0452e-01],\n",
      "        [6.1588e-04, 5.3868e-04, 7.7440e-02, 1.0000e+00, 1.7238e-04, 1.1913e-08,\n",
      "         2.8757e-04, 1.3958e-03],\n",
      "        [5.9899e-01, 1.3624e-01, 6.4504e-02, 1.7238e-04, 1.0000e+00, 2.8461e-06,\n",
      "         7.4636e-01, 3.9585e-01],\n",
      "        [1.9935e-05, 5.9102e-02, 4.6783e-06, 1.1913e-08, 2.8461e-06, 1.0000e+00,\n",
      "         8.8923e-06, 4.6652e-06],\n",
      "        [9.1155e-01, 2.5518e-01, 1.0423e-01, 2.8757e-04, 7.4636e-01, 8.8923e-06,\n",
      "         1.0000e+00, 5.8355e-01],\n",
      "        [8.0617e-01, 2.1523e-01, 3.0452e-01, 1.3958e-03, 3.9585e-01, 4.6652e-06,\n",
      "         5.8355e-01, 1.0000e+00]], grad_fn=<CopySlices>)\n",
      "Weight update complete...\n",
      "Component 8:\n",
      "Hellinger Dist Sq: tensor(0.0142, grad_fn=<RsubBackward1>)\n",
      "Params:{'mus': tensor([[-1.5221e-02],\n",
      "        [ 1.1561e+01],\n",
      "        [-1.2778e+01],\n",
      "        [-4.0683e+01],\n",
      "        [-1.7044e-02],\n",
      "        [ 3.9485e+01],\n",
      "        [ 4.3072e-01],\n",
      "        [-2.5343e+00]], grad_fn=<SliceBackward>), 'sigmas': tensor([[ 3.7639],\n",
      "        [35.7956],\n",
      "        [22.5502],\n",
      "        [55.0056],\n",
      "        [ 0.1296],\n",
      "        [33.1323],\n",
      "        [ 1.1557],\n",
      "        [ 3.6036]], grad_fn=<ExpBackward>)}\n",
      "Weights: tensor([4.1723e-07, 3.1354e-01, 1.9528e-01, 7.3776e-02, 1.4909e-01, 6.1489e-02,\n",
      "        4.8691e-01, 2.9099e-01], grad_fn=<MaxBackward2>)\n",
      "Initializing component 9... \n",
      "          Iteration           |          Best param          |        Best objective        \n",
      "              0               |tensor([-10.4761,   1.1816], grad_fn=<CatBackward>)|             inf              \n",
      "              99              |tensor([4.5568, 0.7335], grad_fn=<CatBackward>)|tensor(1.5722, grad_fn=<NegBackward>)\n",
      "Initialization of component 9 complete, x0 = tensor([4.5568, 0.7335], grad_fn=<CatBackward>)\n",
      "Optimizing component 9... \n",
      "Optimization of component 9 complete\n",
      "Updating weights...\n",
      "tensor([[1.0000e+00, 3.2844e-01, 1.7805e-01, 6.1588e-04, 5.9899e-01, 1.9935e-05,\n",
      "         9.1155e-01, 8.0617e-01, 2.7861e-01],\n",
      "        [3.2844e-01, 1.0000e+00, 7.7964e-02, 5.3868e-04, 1.3624e-01, 5.9102e-02,\n",
      "         2.5518e-01, 2.1523e-01, 3.4751e-01],\n",
      "        [1.7805e-01, 7.7964e-02, 1.0000e+00, 7.7440e-02, 6.4504e-02, 4.6783e-06,\n",
      "         1.0423e-01, 3.0452e-01, 2.3638e-02],\n",
      "        [6.1588e-04, 5.3868e-04, 7.7440e-02, 1.0000e+00, 1.7238e-04, 1.1913e-08,\n",
      "         2.8757e-04, 1.3958e-03, 4.9688e-05],\n",
      "        [5.9899e-01, 1.3624e-01, 6.4504e-02, 1.7238e-04, 1.0000e+00, 2.8461e-06,\n",
      "         7.4636e-01, 3.9585e-01, 1.0779e-03],\n",
      "        [1.9935e-05, 5.9102e-02, 4.6783e-06, 1.1913e-08, 2.8461e-06, 1.0000e+00,\n",
      "         8.8923e-06, 4.6652e-06, 5.2641e-05],\n",
      "        [9.1155e-01, 2.5518e-01, 1.0423e-01, 2.8757e-04, 7.4636e-01, 8.8923e-06,\n",
      "         1.0000e+00, 5.8355e-01, 1.0890e-01],\n",
      "        [8.0617e-01, 2.1523e-01, 3.0452e-01, 1.3958e-03, 3.9585e-01, 4.6652e-06,\n",
      "         5.8355e-01, 1.0000e+00, 4.9849e-02],\n",
      "        [2.7861e-01, 3.4751e-01, 2.3638e-02, 4.9688e-05, 1.0779e-03, 5.2641e-05,\n",
      "         1.0890e-01, 4.9849e-02, 1.0000e+00]], grad_fn=<CopySlices>)\n",
      "Weight update complete...\n",
      "Component 9:\n",
      "Hellinger Dist Sq: tensor(0.0065, grad_fn=<RsubBackward1>)\n",
      "Params:{'mus': tensor([[-1.5221e-02],\n",
      "        [ 1.1561e+01],\n",
      "        [-1.2778e+01],\n",
      "        [-4.0683e+01],\n",
      "        [-1.7044e-02],\n",
      "        [ 3.9485e+01],\n",
      "        [ 4.3072e-01],\n",
      "        [-2.5343e+00],\n",
      "        [ 4.3164e+00]], grad_fn=<SliceBackward>), 'sigmas': tensor([[ 3.7639],\n",
      "        [35.7956],\n",
      "        [22.5502],\n",
      "        [55.0056],\n",
      "        [ 0.1296],\n",
      "        [33.1323],\n",
      "        [ 1.1557],\n",
      "        [ 3.6036],\n",
      "        [ 0.5704]], grad_fn=<ExpBackward>)}\n",
      "Weights: tensor([2.9802e-07, 2.8480e-01, 1.9394e-01, 7.3626e-02, 1.6057e-01, 6.2949e-02,\n",
      "        4.7162e-01, 2.9565e-01, 8.2037e-02], grad_fn=<MaxBackward2>)\n",
      "Initializing component 10... \n",
      "          Iteration           |          Best param          |        Best objective        \n",
      "              0               |tensor([-0.4999, -1.0767], grad_fn=<CatBackward>)|tensor(3.9346, grad_fn=<NegBackward>)\n",
      "              99              |tensor([0.7356, 0.6137], grad_fn=<CatBackward>)|tensor(1.7774, grad_fn=<NegBackward>)\n",
      "Initialization of component 10 complete, x0 = tensor([0.7356, 0.6137], grad_fn=<CatBackward>)\n",
      "Optimizing component 10... \n",
      "Optimization of component 10 complete\n",
      "Updating weights...\n",
      "tensor([[1.0000e+00, 3.2844e-01, 1.7805e-01, 6.1588e-04, 5.9899e-01, 1.9935e-05,\n",
      "         9.1155e-01, 8.0617e-01, 2.7861e-01, 9.6984e-01],\n",
      "        [3.2844e-01, 1.0000e+00, 7.7964e-02, 5.3868e-04, 1.3624e-01, 5.9102e-02,\n",
      "         2.5518e-01, 2.1523e-01, 3.4751e-01, 2.9626e-01],\n",
      "        [1.7805e-01, 7.7964e-02, 1.0000e+00, 7.7440e-02, 6.4504e-02, 4.6783e-06,\n",
      "         1.0423e-01, 3.0452e-01, 2.3638e-02, 1.2682e-01],\n",
      "        [6.1588e-04, 5.3868e-04, 7.7440e-02, 1.0000e+00, 1.7238e-04, 1.1913e-08,\n",
      "         2.8757e-04, 1.3958e-03, 4.9688e-05, 3.7271e-04],\n",
      "        [5.9899e-01, 1.3624e-01, 6.4504e-02, 1.7238e-04, 1.0000e+00, 2.8461e-06,\n",
      "         7.4636e-01, 3.9585e-01, 1.0779e-03, 6.7297e-01],\n",
      "        [1.9935e-05, 5.9102e-02, 4.6783e-06, 1.1913e-08, 2.8461e-06, 1.0000e+00,\n",
      "         8.8923e-06, 4.6652e-06, 5.2641e-05, 1.3342e-05],\n",
      "        [9.1155e-01, 2.5518e-01, 1.0423e-01, 2.8757e-04, 7.4636e-01, 8.8923e-06,\n",
      "         1.0000e+00, 5.8355e-01, 1.0890e-01, 9.7985e-01],\n",
      "        [8.0617e-01, 2.1523e-01, 3.0452e-01, 1.3958e-03, 3.9585e-01, 4.6652e-06,\n",
      "         5.8355e-01, 1.0000e+00, 4.9849e-02, 6.6750e-01],\n",
      "        [2.7861e-01, 3.4751e-01, 2.3638e-02, 4.9688e-05, 1.0779e-03, 5.2641e-05,\n",
      "         1.0890e-01, 4.9849e-02, 1.0000e+00, 2.1300e-01],\n",
      "        [9.6984e-01, 2.9626e-01, 1.2682e-01, 3.7271e-04, 6.7297e-01, 1.3342e-05,\n",
      "         9.7985e-01, 6.6750e-01, 2.1300e-01, 1.0000e+00]],\n",
      "       grad_fn=<CopySlices>)\n",
      "Weight update complete...\n",
      "Component 10:\n",
      "Hellinger Dist Sq: tensor(0.0071, grad_fn=<RsubBackward1>)\n",
      "Params:{'mus': tensor([[-1.5221e-02],\n",
      "        [ 1.1561e+01],\n",
      "        [-1.2778e+01],\n",
      "        [-4.0683e+01],\n",
      "        [-1.7044e-02],\n",
      "        [ 3.9485e+01],\n",
      "        [ 4.3072e-01],\n",
      "        [-2.5343e+00],\n",
      "        [ 4.3164e+00],\n",
      "        [ 4.1568e-01]], grad_fn=<SliceBackward>), 'sigmas': tensor([[ 3.7639],\n",
      "        [35.7956],\n",
      "        [22.5502],\n",
      "        [55.0056],\n",
      "        [ 0.1296],\n",
      "        [33.1323],\n",
      "        [ 1.1557],\n",
      "        [ 3.6036],\n",
      "        [ 0.5704],\n",
      "        [ 2.0524]], grad_fn=<ExpBackward>)}\n",
      "Weights: tensor([1.7506e-04, 2.8279e-01, 2.0092e-01, 7.2798e-02, 2.0090e-01, 6.2762e-02,\n",
      "        8.1688e-05, 2.1470e-01, 2.9027e-02, 5.0643e-01],\n",
      "       grad_fn=<MaxBackward2>)\n"
     ]
    },
    {
     "data": {
      "text/plain": [
       "{'mus': tensor([[-1.5221e-02],\n",
       "         [ 1.0862e+00],\n",
       "         [-1.8408e+00],\n",
       "         [-2.6198e+00],\n",
       "         [-1.6983e-02],\n",
       "         [ 4.0143e+00],\n",
       "         [ 3.2596e-01],\n",
       "         [-1.3022e+00],\n",
       "         [ 3.7464e+00],\n",
       "         [ 2.6363e-01],\n",
       "         [ 1.0862e+00],\n",
       "         [ 1.1561e+01],\n",
       "         [-3.3711e+00],\n",
       "         [-9.0346e+00],\n",
       "         [ 2.4729e-02],\n",
       "         [ 2.6063e+01],\n",
       "         [ 7.7883e-01],\n",
       "         [-1.2451e+00],\n",
       "         [ 4.4300e+00],\n",
       "         [ 1.0201e+00],\n",
       "         [-1.8408e+00],\n",
       "         [-3.3711e+00],\n",
       "         [-1.2778e+01],\n",
       "         [-2.0892e+01],\n",
       "         [-8.9973e-02],\n",
       "         [ 8.3874e+00],\n",
       "         [-2.1322e-01],\n",
       "         [-3.9458e+00],\n",
       "         [ 3.8947e+00],\n",
       "         [-6.8497e-01],\n",
       "         [-2.6198e+00],\n",
       "         [-9.0346e+00],\n",
       "         [-2.0892e+01],\n",
       "         [-4.0683e+01],\n",
       "         [-1.1264e-01],\n",
       "         [ 9.3487e+00],\n",
       "         [-4.1533e-01],\n",
       "         [-4.8799e+00],\n",
       "         [ 3.8546e+00],\n",
       "         [-1.0627e+00],\n",
       "         [-1.6983e-02],\n",
       "         [ 2.4729e-02],\n",
       "         [-8.9973e-02],\n",
       "         [-1.1264e-01],\n",
       "         [-1.7044e-02],\n",
       "         [ 1.3689e-01],\n",
       "         [ 2.8110e-02],\n",
       "         [-1.0444e-01],\n",
       "         [ 7.8533e-01],\n",
       "         [ 8.6602e-03],\n",
       "         [ 4.0143e+00],\n",
       "         [ 2.6063e+01],\n",
       "         [ 8.3874e+00],\n",
       "         [ 9.3487e+00],\n",
       "         [ 1.3689e-01],\n",
       "         [ 3.9485e+01],\n",
       "         [ 1.7471e+00],\n",
       "         [ 1.5875e+00],\n",
       "         [ 4.9116e+00],\n",
       "         [ 2.6947e+00],\n",
       "         [ 3.2596e-01],\n",
       "         [ 7.7883e-01],\n",
       "         [-2.1322e-01],\n",
       "         [-4.1533e-01],\n",
       "         [ 2.8110e-02],\n",
       "         [ 1.7471e+00],\n",
       "         [ 4.3072e-01],\n",
       "         [-2.8928e-01],\n",
       "         [ 3.0323e+00],\n",
       "         [ 4.2530e-01],\n",
       "         [-1.3022e+00],\n",
       "         [-1.2451e+00],\n",
       "         [-3.9458e+00],\n",
       "         [-4.8799e+00],\n",
       "         [-1.0444e-01],\n",
       "         [ 1.5875e+00],\n",
       "         [-2.8928e-01],\n",
       "         [-2.5343e+00],\n",
       "         [ 3.3802e+00],\n",
       "         [-6.5481e-01],\n",
       "         [ 3.7464e+00],\n",
       "         [ 4.4300e+00],\n",
       "         [ 3.8947e+00],\n",
       "         [ 3.8546e+00],\n",
       "         [ 7.8533e-01],\n",
       "         [ 4.9116e+00],\n",
       "         [ 3.0323e+00],\n",
       "         [ 3.3802e+00],\n",
       "         [ 4.3164e+00],\n",
       "         [ 3.4681e+00],\n",
       "         [ 2.6363e-01],\n",
       "         [ 1.0201e+00],\n",
       "         [-6.8497e-01],\n",
       "         [-1.0627e+00],\n",
       "         [ 8.6602e-03],\n",
       "         [ 2.6947e+00],\n",
       "         [ 4.2530e-01],\n",
       "         [-6.5481e-01],\n",
       "         [ 3.4681e+00],\n",
       "         [ 4.1568e-01]], grad_fn=<SliceBackward>), 'sigmas': tensor([[ 3.7639],\n",
       "         [ 6.8116],\n",
       "         [ 6.4510],\n",
       "         [ 7.0457],\n",
       "         [ 0.2506],\n",
       "         [ 6.7599],\n",
       "         [ 1.7684],\n",
       "         [ 3.6820],\n",
       "         [ 0.9907],\n",
       "         [ 2.6563],\n",
       "         [ 6.8116],\n",
       "         [35.7956],\n",
       "         [27.6694],\n",
       "         [43.3685],\n",
       "         [ 0.2583],\n",
       "         [34.4125],\n",
       "         [ 2.2391],\n",
       "         [ 6.5480],\n",
       "         [ 1.1229],\n",
       "         [ 3.8822],\n",
       "         [ 6.4510],\n",
       "         [27.6694],\n",
       "         [22.5502],\n",
       "         [31.9869],\n",
       "         [ 0.2577],\n",
       "         [26.8357],\n",
       "         [ 2.1987],\n",
       "         [ 6.2141],\n",
       "         [ 1.1127],\n",
       "         [ 3.7624],\n",
       "         [ 7.0457],\n",
       "         [43.3685],\n",
       "         [31.9869],\n",
       "         [55.0056],\n",
       "         [ 0.2586],\n",
       "         [41.3548],\n",
       "         [ 2.2638],\n",
       "         [ 6.7641],\n",
       "         [ 1.1291],\n",
       "         [ 3.9572],\n",
       "         [ 0.2506],\n",
       "         [ 0.2583],\n",
       "         [ 0.2577],\n",
       "         [ 0.2586],\n",
       "         [ 0.1296],\n",
       "         [ 0.2582],\n",
       "         [ 0.2331],\n",
       "         [ 0.2502],\n",
       "         [ 0.2112],\n",
       "         [ 0.2438],\n",
       "         [ 6.7599],\n",
       "         [34.4125],\n",
       "         [26.8357],\n",
       "         [41.3548],\n",
       "         [ 0.2582],\n",
       "         [33.1323],\n",
       "         [ 2.2335],\n",
       "         [ 6.5002],\n",
       "         [ 1.1215],\n",
       "         [ 3.8654],\n",
       "         [ 1.7684],\n",
       "         [ 2.2391],\n",
       "         [ 2.1987],\n",
       "         [ 2.2638],\n",
       "         [ 0.2331],\n",
       "         [ 2.2335],\n",
       "         [ 1.1557],\n",
       "         [ 1.7501],\n",
       "         [ 0.7638],\n",
       "         [ 1.4787],\n",
       "         [ 3.6820],\n",
       "         [ 6.5480],\n",
       "         [ 6.2141],\n",
       "         [ 6.7641],\n",
       "         [ 0.2502],\n",
       "         [ 6.5002],\n",
       "         [ 1.7501],\n",
       "         [ 3.6036],\n",
       "         [ 0.9849],\n",
       "         [ 2.6153],\n",
       "         [ 0.9907],\n",
       "         [ 1.1229],\n",
       "         [ 1.1127],\n",
       "         [ 1.1291],\n",
       "         [ 0.2112],\n",
       "         [ 1.1215],\n",
       "         [ 0.7638],\n",
       "         [ 0.9849],\n",
       "         [ 0.5704],\n",
       "         [ 0.8927],\n",
       "         [ 2.6563],\n",
       "         [ 3.8822],\n",
       "         [ 3.7624],\n",
       "         [ 3.9572],\n",
       "         [ 0.2438],\n",
       "         [ 3.8654],\n",
       "         [ 1.4787],\n",
       "         [ 2.6153],\n",
       "         [ 0.8927],\n",
       "         [ 2.0524]], grad_fn=<ExpBackward>), 'weights': tensor([3.0646e-08, 1.6259e-05, 6.2623e-06, 7.8487e-09, 2.1066e-05, 2.1903e-10,\n",
       "         1.3035e-08, 3.0300e-05, 1.4157e-06, 8.5981e-05, 1.6259e-05, 7.9971e-02,\n",
       "         4.4297e-03, 1.1089e-05, 7.7399e-03, 1.0490e-03, 5.8949e-06, 1.3067e-02,\n",
       "         2.8526e-03, 4.2428e-02, 6.2623e-06, 4.4297e-03, 4.0367e-02, 1.1327e-03,\n",
       "         2.6036e-03, 5.8992e-08, 1.7107e-06, 1.3136e-02, 1.3785e-04, 1.2904e-02,\n",
       "         7.8487e-09, 1.1089e-05, 1.1327e-03, 5.2995e-03, 2.5211e-06, 5.4428e-11,\n",
       "         1.7101e-09, 2.1815e-05, 1.0499e-07, 1.3741e-05, 2.1066e-05, 7.7399e-03,\n",
       "         2.6036e-03, 2.5211e-06, 4.0360e-02, 3.5886e-08, 1.2249e-05, 1.7074e-02,\n",
       "         6.2855e-06, 6.8468e-02, 2.1903e-10, 1.0490e-03, 5.8992e-08, 5.4428e-11,\n",
       "         3.5886e-08, 3.9390e-03, 4.5589e-11, 6.2862e-08, 9.5899e-08, 4.2407e-07,\n",
       "         1.3035e-08, 5.8949e-06, 1.7107e-06, 1.7101e-09, 1.2249e-05, 4.5589e-11,\n",
       "         6.6730e-09, 1.0234e-05, 2.5821e-07, 4.0536e-05, 3.0300e-05, 1.3067e-02,\n",
       "         1.3136e-02, 2.1815e-05, 1.7074e-02, 6.2862e-08, 1.0234e-05, 4.6094e-02,\n",
       "         3.1066e-04, 7.2576e-02, 1.4157e-06, 2.8526e-03, 1.3785e-04, 1.0499e-07,\n",
       "         6.2855e-06, 9.5899e-08, 2.5821e-07, 3.1066e-04, 8.4256e-04, 3.1311e-03,\n",
       "         8.5981e-05, 4.2428e-02, 1.2904e-02, 1.3741e-05, 6.8468e-02, 4.2407e-07,\n",
       "         4.0536e-05, 7.2576e-02, 3.1311e-03, 2.5647e-01],\n",
       "        grad_fn=<AsStridedBackward>), 'obj': tensor(0.0071, grad_fn=<RsubBackward1>)}"
      ]
     },
     "execution_count": 34,
     "metadata": {},
     "output_type": "execute_result"
    }
   ],
   "source": [
    "test.build(10)"
   ]
  },
  {
   "cell_type": "code",
   "execution_count": 39,
   "metadata": {},
   "outputs": [
    {
     "data": {
      "image/png": "[encoded data removed]",
      "text/plain": [
       "<Figure size 720x720 with 1 Axes>"
      ]
     },
     "metadata": {
      "needs_background": "light"
     },
     "output_type": "display_data"
    }
   ],
   "source": [
    "samples = test._sample_g(100000).detach().numpy().flatten()\n",
    "\n",
    "plt.figure(figsize=(10, 10))\n",
    "\n",
    "plt.hist(samples, density=True, bins=120, range=[-10, 10])\n",
    "\n",
    "grid = np.linspace(-10, 10, 100)\n",
    "plt.plot(grid, (1 / np.pi) / (1 + grid ** 2))\n",
    "\n",
    "plt.title('Boosting Cauchy with gaussians')\n",
    "plt.ylabel(r'$p$')\n",
    "plt.xlabel(r'$x$')\n",
    "\n",
    "plt.show()"
   ]
  },
  {
   "cell_type": "code",
   "execution_count": 66,
   "metadata": {},
   "outputs": [],
   "source": []
  },
  {
   "cell_type": "code",
   "execution_count": 71,
   "metadata": {},
   "outputs": [],
   "source": []
  },
  {
   "cell_type": "code",
   "execution_count": 73,
   "metadata": {},
   "outputs": [],
   "source": []
  },
  {
   "cell_type": "code",
   "execution_count": null,
   "metadata": {},
   "outputs": [],
   "source": []
  },
  {
   "cell_type": "code",
   "execution_count": null,
   "metadata": {},
   "outputs": [],
   "source": []
  },
  {
   "cell_type": "code",
   "execution_count": null,
   "metadata": {},
   "outputs": [],
   "source": []
  },
  {
   "cell_type": "code",
   "execution_count": null,
   "metadata": {},
   "outputs": [],
   "source": []
  },
  {
   "cell_type": "code",
   "execution_count": null,
   "metadata": {},
   "outputs": [],
   "source": []
  },
  {
   "cell_type": "code",
   "execution_count": null,
   "metadata": {},
   "outputs": [],
   "source": []
  },
  {
   "cell_type": "code",
   "execution_count": 10,
   "metadata": {},
   "outputs": [],
   "source": [
    "test_b = torch.tensor([2, 3])"
   ]
  },
  {
   "cell_type": "code",
   "execution_count": 11,
   "metadata": {},
   "outputs": [
    {
     "data": {
      "text/plain": [
       "tensor([[2, 3],\n",
       "        [2, 3]])"
      ]
     },
     "execution_count": 11,
     "metadata": {},
     "output_type": "execute_result"
    }
   ],
   "source": [
    "test_b.expand_as(test_a)"
   ]
  },
  {
   "cell_type": "code",
   "execution_count": 10,
   "metadata": {},
   "outputs": [
    {
     "data": {
      "text/plain": [
       "tensor(3.)"
      ]
     },
     "execution_count": 10,
     "metadata": {},
     "output_type": "execute_result"
    }
   ],
   "source": [
    "torch.tensor(3, dtype=torch.float32)"
   ]
  },
  {
   "cell_type": "code",
   "execution_count": 15,
   "metadata": {},
   "outputs": [],
   "source": [
    "test = torch.tensor([1., 2])"
   ]
  },
  {
   "cell_type": "code",
   "execution_count": 16,
   "metadata": {},
   "outputs": [
    {
     "data": {
      "text/plain": [
       "False"
      ]
     },
     "execution_count": 16,
     "metadata": {},
     "output_type": "execute_result"
    }
   ],
   "source": [
    "test.requires_grad"
   ]
  },
  {
   "cell_type": "code",
   "execution_count": 17,
   "metadata": {},
   "outputs": [
    {
     "data": {
      "text/plain": [
       "tensor([1., 2.], requires_grad=True)"
      ]
     },
     "execution_count": 17,
     "metadata": {},
     "output_type": "execute_result"
    }
   ],
   "source": [
    "test.requires_grad_()"
   ]
  },
  {
   "cell_type": "code",
   "execution_count": 18,
   "metadata": {},
   "outputs": [
    {
     "data": {
      "text/plain": [
       "True"
      ]
     },
     "execution_count": 18,
     "metadata": {},
     "output_type": "execute_result"
    }
   ],
   "source": [
    "test.requires_grad"
   ]
  },
  {
   "cell_type": "code",
   "execution_count": 8,
   "metadata": {},
   "outputs": [],
   "source": [
    "x = torch.tensor([[1., 2], [2, 3]], requires_grad=True)"
   ]
  },
  {
   "cell_type": "code",
   "execution_count": 9,
   "metadata": {},
   "outputs": [
    {
     "data": {
      "text/plain": [
       "Adam (\n",
       "Parameter Group 0\n",
       "    amsgrad: False\n",
       "    betas: (0.9, 0.999)\n",
       "    eps: 1e-08\n",
       "    lr: 0.001\n",
       "    weight_decay: 0\n",
       ")"
      ]
     },
     "execution_count": 9,
     "metadata": {},
     "output_type": "execute_result"
    }
   ],
   "source": [
    "torch.optim.Adam([x])"
   ]
  },
  {
   "cell_type": "code",
   "execution_count": 9,
   "metadata": {},
   "outputs": [
    {
     "ename": "RuntimeError",
     "evalue": "1D tensors expected, got 2D, 1D tensors at ../aten/src/TH/generic/THTensorEvenMoreMath.cpp:774",
     "output_type": "error",
     "traceback": [
      "\u001b[0;31m---------------------------------------------------------------------------\u001b[0m",
      "\u001b[0;31mRuntimeError\u001b[0m                              Traceback (most recent call last)",
      "\u001b[0;32m<ipython-input-9-84ddcd0058d4>\u001b[0m in \u001b[0;36m<module>\u001b[0;34m\u001b[0m\n\u001b[0;32m----> 1\u001b[0;31m \u001b[0mx\u001b[0m\u001b[0;34m.\u001b[0m\u001b[0mdot\u001b[0m\u001b[0;34m(\u001b[0m\u001b[0mtorch\u001b[0m\u001b[0;34m.\u001b[0m\u001b[0mTensor\u001b[0m\u001b[0;34m(\u001b[0m\u001b[0;34m[\u001b[0m\u001b[0;36m1\u001b[0m\u001b[0;34m,\u001b[0m \u001b[0;36m2\u001b[0m\u001b[0;34m]\u001b[0m\u001b[0;34m)\u001b[0m\u001b[0;34m)\u001b[0m\u001b[0;34m\u001b[0m\u001b[0;34m\u001b[0m\u001b[0m\n\u001b[0m",
      "\u001b[0;31mRuntimeError\u001b[0m: 1D tensors expected, got 2D, 1D tensors at ../aten/src/TH/generic/THTensorEvenMoreMath.cpp:774"
     ]
    }
   ],
   "source": [
    "x.dot(torch.Tensor([1, 2]))"
   ]
  },
  {
   "cell_type": "code",
   "execution_count": null,
   "metadata": {},
   "outputs": [],
   "source": []
  }
 ],
 "metadata": {
  "kernelspec": {
   "display_name": "Python 3",
   "language": "python",
   "name": "python3"
  },
  "language_info": {
   "codemirror_mode": {
    "name": "ipython",
    "version": 3
   },
   "file_extension": ".py",
   "mimetype": "text/x-python",
   "name": "python",
   "nbconvert_exporter": "python",
   "pygments_lexer": "ipython3",
   "version": "3.7.4"
  }
 },
 "nbformat": 4,
 "nbformat_minor": 2
}

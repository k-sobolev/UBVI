{
 "cells": [
  {
   "cell_type": "code",
   "execution_count": 1,
   "metadata": {},
   "outputs": [],
   "source": [
    "from gaussians import Gaussian"
   ]
  },
  {
   "cell_type": "code",
   "execution_count": 2,
   "metadata": {},
   "outputs": [],
   "source": [
    "import torch\n",
    "\n",
    "from matplotlib import pyplot as plt\n",
    "import numpy as np"
   ]
  },
  {
   "cell_type": "code",
   "execution_count": 3,
   "metadata": {},
   "outputs": [],
   "source": [
    "from ubvi import UBVI"
   ]
  },
  {
   "cell_type": "code",
   "execution_count": 4,
   "metadata": {},
   "outputs": [],
   "source": [
    "target_log_pdf = lambda x: -((x - 1) ** 2).sum(dim=-1) / 2"
   ]
  },
  {
   "cell_type": "code",
   "execution_count": 10,
   "metadata": {},
   "outputs": [],
   "source": [
    "test = UBVI(target_log_pdf, Gaussian(1), num_opt_steps=1000, n_samples=1000, n_init=100, init_inflation=100)"
   ]
  },
  {
   "cell_type": "code",
   "execution_count": 11,
   "metadata": {
    "scrolled": false
   },
   "outputs": [
    {
     "name": "stdout",
     "output_type": "stream",
     "text": [
      "Initializing component 1... \n",
      "          Iteration           |          Best param          |        Best objective        \n",
      "              0               |  tensor([29.2825,  0.0000])  |       tensor(157.4650)       \n",
      "              99              |   tensor([2.8523, 0.0000])   |       tensor(-0.0719)        \n",
      "Initialization of component 1 complete, x0 = tensor([2.8523, 0.0000])\n",
      "Optimizing component 1... \n",
      "Optimization of component 1 complete\n",
      "Updating weights...\n",
      "Weight update complete...\n",
      "Component 1:\n",
      "Hellinger Dist Sq: tensor(5.4836e-06, grad_fn=<RsubBackward1>)\n",
      "Params:{'mus': tensor([[0.9936]], grad_fn=<SliceBackward>), 'sigmas': tensor([[1.0026]], grad_fn=<ExpBackward>)}\n",
      "Weights: tensor([1.])\n",
      "Initializing component 2... \n",
      "          Iteration           |          Best param          |        Best objective        \n",
      "              0               |tensor([ 3.5340, -0.0754], grad_fn=<CatBackward>)|tensor(2.6903, grad_fn=<NegBackward>)\n",
      "              99              |tensor([7.3998, 1.0502], grad_fn=<CatBackward>)|tensor(1.2125, grad_fn=<NegBackward>)\n",
      "Initialization of component 2 complete, x0 = tensor([7.3998, 1.0502], grad_fn=<CatBackward>)\n",
      "Optimizing component 2... \n",
      "Optimization of component 2 complete\n",
      "Updating weights...\n",
      "tensor([[1.0000, 0.2319],\n",
      "        [0.2319, 1.0000]], grad_fn=<CopySlices>)\n",
      "Weight update complete...\n",
      "Component 2:\n",
      "Hellinger Dist Sq: tensor(4.7684e-06, grad_fn=<RsubBackward1>)\n",
      "Params:{'mus': tensor([[0.9936],\n",
      "        [6.7945]], grad_fn=<SliceBackward>), 'sigmas': tensor([[1.0026],\n",
      "        [5.4690]], grad_fn=<ExpBackward>)}\n",
      "Weights: tensor([1., 0.], grad_fn=<MaxBackward2>)\n",
      "Initializing component 3... \n",
      "          Iteration           |          Best param          |        Best objective        \n",
      "              0               |tensor([ 0.2542, -0.0524], grad_fn=<CatBackward>)|             inf              \n",
      "              99              |tensor([-1.9011,  0.6812], grad_fn=<CatBackward>)|tensor(2.1628, grad_fn=<NegBackward>)\n",
      "Initialization of component 3 complete, x0 = tensor([-1.9011,  0.6812], grad_fn=<CatBackward>)\n",
      "Optimizing component 3... \n",
      "Optimization of component 3 complete\n",
      "Updating weights...\n",
      "tensor([[1.0000, 0.2319, 0.4449],\n",
      "        [0.2319, 1.0000, 0.0684],\n",
      "        [0.4449, 0.0684, 1.0000]], grad_fn=<CopySlices>)\n",
      "Weight update complete...\n",
      "Component 3:\n",
      "Hellinger Dist Sq: tensor(0.0010, grad_fn=<RsubBackward1>)\n",
      "Params:{'mus': tensor([[ 0.9936],\n",
      "        [ 6.7945],\n",
      "        [-2.0881]], grad_fn=<SliceBackward>), 'sigmas': tensor([[1.0026],\n",
      "        [5.4690],\n",
      "        [2.0460]], grad_fn=<ExpBackward>)}\n",
      "Weights: tensor([9.7846e-01, 5.8208e-10, 4.6470e-02], grad_fn=<MaxBackward2>)\n",
      "Initializing component 4... \n",
      "          Iteration           |          Best param          |        Best objective        \n",
      "              0               |tensor([-3.5810,  0.7722], grad_fn=<CatBackward>)|tensor(3.6585, grad_fn=<NegBackward>)\n",
      "              99              |tensor([-5.0306,  0.6837], grad_fn=<CatBackward>)|tensor(0.9141, grad_fn=<NegBackward>)\n",
      "Initialization of component 4 complete, x0 = tensor([-5.0306,  0.6837], grad_fn=<CatBackward>)\n",
      "Optimizing component 4... \n",
      "Optimization of component 4 complete\n",
      "Updating weights...\n",
      "tensor([[1.0000, 0.2319, 0.4449, 0.1372],\n",
      "        [0.2319, 1.0000, 0.0684, 0.0279],\n",
      "        [0.4449, 0.0684, 1.0000, 0.5277],\n",
      "        [0.1372, 0.0279, 0.5277, 1.0000]], grad_fn=<CopySlices>)\n",
      "Weight update complete...\n",
      "Component 4:\n",
      "Hellinger Dist Sq: tensor(0.0014, grad_fn=<RsubBackward1>)\n",
      "Params:{'mus': tensor([[ 0.9936],\n",
      "        [ 6.7945],\n",
      "        [-2.0881],\n",
      "        [-6.5450]], grad_fn=<SliceBackward>), 'sigmas': tensor([[1.0026],\n",
      "        [5.4690],\n",
      "        [2.0460],\n",
      "        [6.9754]], grad_fn=<ExpBackward>)}\n",
      "Weights: tensor([0.9843, 0.0000, 0.0128, 0.0578], grad_fn=<MaxBackward2>)\n",
      "Initializing component 5... \n",
      "          Iteration           |          Best param          |        Best objective        \n",
      "              0               |tensor([-0.7905,  0.7707], grad_fn=<CatBackward>)|             inf              \n",
      "              99              |tensor([6.1682, 0.2556], grad_fn=<CatBackward>)|tensor(1.8872, grad_fn=<NegBackward>)\n",
      "Initialization of component 5 complete, x0 = tensor([6.1682, 0.2556], grad_fn=<CatBackward>)\n",
      "Optimizing component 5... \n",
      "Optimization of component 5 complete\n",
      "Updating weights...\n",
      "tensor([[1.0000, 0.2319, 0.4449, 0.1372, 0.3234],\n",
      "        [0.2319, 1.0000, 0.0684, 0.0279, 0.9165],\n",
      "        [0.4449, 0.0684, 1.0000, 0.5277, 0.0799],\n",
      "        [0.1372, 0.0279, 0.5277, 1.0000, 0.0329],\n",
      "        [0.3234, 0.9165, 0.0799, 0.0329, 1.0000]], grad_fn=<CopySlices>)\n",
      "Weight update complete...\n",
      "Component 5:\n",
      "Hellinger Dist Sq: tensor(0.0037, grad_fn=<RsubBackward1>)\n",
      "Params:{'mus': tensor([[ 0.9936],\n",
      "        [ 6.7945],\n",
      "        [-2.0881],\n",
      "        [-6.5450],\n",
      "        [ 5.2216]], grad_fn=<SliceBackward>), 'sigmas': tensor([[1.0026],\n",
      "        [5.4690],\n",
      "        [2.0460],\n",
      "        [6.9754],\n",
      "        [3.2690]], grad_fn=<ExpBackward>)}\n",
      "Weights: tensor([9.6152e-01, 7.4506e-09, 1.8705e-02, 5.5536e-02, 5.8636e-02],\n",
      "       grad_fn=<MaxBackward2>)\n",
      "Initializing component 6... \n",
      "          Iteration           |          Best param          |        Best objective        \n",
      "              0               |tensor([-5.4353,  0.4787], grad_fn=<CatBackward>)|             inf              \n",
      "              99              |tensor([ 0.2422, -0.8490], grad_fn=<CatBackward>)|tensor(3.0781, grad_fn=<NegBackward>)\n",
      "Initialization of component 6 complete, x0 = tensor([ 0.2422, -0.8490], grad_fn=<CatBackward>)\n",
      "Optimizing component 6... \n",
      "Optimization of component 6 complete\n",
      "Updating weights...\n",
      "tensor([[1.0000, 0.2319, 0.4449, 0.1372, 0.3234, 0.9340],\n",
      "        [0.2319, 1.0000, 0.0684, 0.0279, 0.9165, 0.1814],\n",
      "        [0.4449, 0.0684, 1.0000, 0.5277, 0.0799, 0.2776],\n",
      "        [0.1372, 0.0279, 0.5277, 1.0000, 0.0329, 0.0859],\n",
      "        [0.3234, 0.9165, 0.0799, 0.0329, 1.0000, 0.2539],\n",
      "        [0.9340, 0.1814, 0.2776, 0.0859, 0.2539, 1.0000]],\n",
      "       grad_fn=<CopySlices>)\n",
      "Weight update complete...\n",
      "Component 6:\n",
      "Hellinger Dist Sq: tensor(0.0100, grad_fn=<RsubBackward1>)\n",
      "Params:{'mus': tensor([[ 0.9936],\n",
      "        [ 6.7945],\n",
      "        [-2.0881],\n",
      "        [-6.5450],\n",
      "        [ 5.2216],\n",
      "        [ 1.1922]], grad_fn=<SliceBackward>), 'sigmas': tensor([[1.0026],\n",
      "        [5.4690],\n",
      "        [2.0460],\n",
      "        [6.9754],\n",
      "        [3.2690],\n",
      "        [0.3657]], grad_fn=<ExpBackward>)}\n",
      "Weights: tensor([0.5917, 0.0000, 0.0920, 0.0356, 0.0821, 0.3495],\n",
      "       grad_fn=<MaxBackward2>)\n",
      "Initializing component 7... \n",
      "          Iteration           |          Best param          |        Best objective        \n",
      "              0               |tensor([-16.0087,   2.7284], grad_fn=<CatBackward>)|             inf              \n",
      "              99              |tensor([-1.8888, -0.0445], grad_fn=<CatBackward>)|tensor(2.4507, grad_fn=<NegBackward>)\n",
      "Initialization of component 7 complete, x0 = tensor([-1.8888, -0.0445], grad_fn=<CatBackward>)\n",
      "Optimizing component 7... \n",
      "Optimization of component 7 complete\n",
      "Updating weights...\n",
      "tensor([[1.0000, 0.2319, 0.4449, 0.1372, 0.3234, 0.9340, 0.4995],\n",
      "        [0.2319, 1.0000, 0.0684, 0.0279, 0.9165, 0.1814, 0.0520],\n",
      "        [0.4449, 0.0684, 1.0000, 0.5277, 0.0799, 0.2776, 0.4924],\n",
      "        [0.1372, 0.0279, 0.5277, 1.0000, 0.0329, 0.0859, 0.1360],\n",
      "        [0.3234, 0.9165, 0.0799, 0.0329, 1.0000, 0.2539, 0.0575],\n",
      "        [0.9340, 0.1814, 0.2776, 0.0859, 0.2539, 1.0000, 0.2385],\n",
      "        [0.4995, 0.0520, 0.4924, 0.1360, 0.0575, 0.2385, 1.0000]],\n",
      "       grad_fn=<CopySlices>)\n",
      "Weight update complete...\n",
      "Component 7:\n",
      "Hellinger Dist Sq: tensor(0.0189, grad_fn=<RsubBackward1>)\n",
      "Params:{'mus': tensor([[ 0.9936],\n",
      "        [ 6.7945],\n",
      "        [-2.0881],\n",
      "        [-6.5450],\n",
      "        [ 5.2216],\n",
      "        [ 1.1922],\n",
      "        [-0.4320]], grad_fn=<SliceBackward>), 'sigmas': tensor([[1.0026],\n",
      "        [5.4690],\n",
      "        [2.0460],\n",
      "        [6.9754],\n",
      "        [3.2690],\n",
      "        [0.3657],\n",
      "        [0.1195]], grad_fn=<ExpBackward>)}\n",
      "Weights: tensor([5.0938e-04, 1.4901e-08, 8.8534e-02, 4.0054e-02, 1.3606e-01, 8.1877e-01,\n",
      "        2.5360e-01], grad_fn=<MaxBackward2>)\n",
      "Initializing component 8... \n",
      "          Iteration           |          Best param          |        Best objective        \n",
      "              0               |tensor([ 6.2405, -0.3574], grad_fn=<CatBackward>)|             inf              \n",
      "              99              |tensor([ 2.7744, -1.9940], grad_fn=<CatBackward>)|tensor(1.5688, grad_fn=<NegBackward>)\n",
      "Initialization of component 8 complete, x0 = tensor([ 2.7744, -1.9940], grad_fn=<CatBackward>)\n",
      "Optimizing component 8... \n"
     ]
    },
    {
     "name": "stdout",
     "output_type": "stream",
     "text": [
      "Optimization of component 8 complete\n",
      "Updating weights...\n",
      "tensor([[1.0000e+00, 2.3185e-01, 4.4490e-01, 1.3719e-01, 3.2340e-01, 9.3402e-01,\n",
      "         4.9949e-01, 3.4937e-01],\n",
      "        [2.3185e-01, 1.0000e+00, 6.8365e-02, 2.7919e-02, 9.1653e-01, 1.8143e-01,\n",
      "         5.2018e-02, 2.6077e-01],\n",
      "        [4.4490e-01, 6.8365e-02, 1.0000e+00, 5.2774e-01, 7.9912e-02, 2.7761e-01,\n",
      "         4.9241e-01, 3.8240e-02],\n",
      "        [1.3719e-01, 2.7919e-02, 5.2774e-01, 1.0000e+00, 3.2915e-02, 8.5885e-02,\n",
      "         1.3597e-01, 2.1684e-02],\n",
      "        [3.2340e-01, 9.1653e-01, 7.9912e-02, 3.2915e-02, 1.0000e+00, 2.5390e-01,\n",
      "         5.7459e-02, 3.9034e-01],\n",
      "        [9.3402e-01, 1.8143e-01, 2.7761e-01, 8.5885e-02, 2.5390e-01, 1.0000e+00,\n",
      "         2.3847e-01, 2.0897e-01],\n",
      "        [4.9949e-01, 5.2018e-02, 4.9241e-01, 1.3597e-01, 5.7459e-02, 2.3847e-01,\n",
      "         1.0000e+00, 5.9574e-06],\n",
      "        [3.4937e-01, 2.6077e-01, 3.8240e-02, 2.1684e-02, 3.9034e-01, 2.0897e-01,\n",
      "         5.9574e-06, 1.0000e+00]], grad_fn=<CopySlices>)\n",
      "Weight update complete...\n",
      "Component 8:\n",
      "Hellinger Dist Sq: tensor(0.0101, grad_fn=<RsubBackward1>)\n",
      "Params:{'mus': tensor([[ 0.9936],\n",
      "        [ 6.7945],\n",
      "        [-2.0881],\n",
      "        [-6.5450],\n",
      "        [ 5.2216],\n",
      "        [ 1.1922],\n",
      "        [-0.4320],\n",
      "        [ 2.8596]], grad_fn=<SliceBackward>), 'sigmas': tensor([[1.0026],\n",
      "        [5.4690],\n",
      "        [2.0460],\n",
      "        [6.9754],\n",
      "        [3.2690],\n",
      "        [0.3657],\n",
      "        [0.1195],\n",
      "        [0.1056]], grad_fn=<ExpBackward>)}\n",
      "Weights: tensor([6.3181e-06, 2.9328e-07, 8.8854e-02, 3.8358e-02, 8.2560e-02, 7.9300e-01,\n",
      "        2.5868e-01, 1.4526e-01], grad_fn=<MaxBackward2>)\n",
      "Initializing component 9... \n",
      "          Iteration           |          Best param          |        Best objective        \n",
      "              0               |tensor([ 3.9791, -0.7353], grad_fn=<CatBackward>)|             inf              \n",
      "              99              |tensor([-1.2558, -4.8252], grad_fn=<CatBackward>)|tensor(2.4156, grad_fn=<NegBackward>)\n",
      "Initialization of component 9 complete, x0 = tensor([-1.2558, -4.8252], grad_fn=<CatBackward>)\n",
      "Optimizing component 9... \n",
      "Optimization of component 9 complete\n",
      "Updating weights...\n",
      "tensor([[1.0000e+00, 2.3185e-01, 4.4490e-01, 1.3719e-01, 3.2340e-01, 9.3402e-01,\n",
      "         4.9949e-01, 3.4937e-01, 1.3762e-01],\n",
      "        [2.3185e-01, 1.0000e+00, 6.8365e-02, 2.7919e-02, 9.1653e-01, 1.8143e-01,\n",
      "         5.2018e-02, 2.6077e-01, 1.7615e-02],\n",
      "        [4.4490e-01, 6.8365e-02, 1.0000e+00, 5.2774e-01, 7.9912e-02, 2.7761e-01,\n",
      "         4.9241e-01, 3.8240e-02, 4.7033e-01],\n",
      "        [1.3719e-01, 2.7919e-02, 5.2774e-01, 1.0000e+00, 3.2915e-02, 8.5885e-02,\n",
      "         1.3597e-01, 2.1684e-02, 1.4485e-01],\n",
      "        [3.2340e-01, 9.1653e-01, 7.9912e-02, 3.2915e-02, 1.0000e+00, 2.5390e-01,\n",
      "         5.7459e-02, 3.9034e-01, 1.5065e-02],\n",
      "        [9.3402e-01, 1.8143e-01, 2.7761e-01, 8.5885e-02, 2.5390e-01, 1.0000e+00,\n",
      "         2.3847e-01, 2.0897e-01, 8.9435e-03],\n",
      "        [4.9949e-01, 5.2018e-02, 4.9241e-01, 1.3597e-01, 5.7459e-02, 2.3847e-01,\n",
      "         1.0000e+00, 5.9574e-06, 1.5977e-01],\n",
      "        [3.4937e-01, 2.6077e-01, 3.8240e-02, 2.1684e-02, 3.9034e-01, 2.0897e-01,\n",
      "         5.9574e-06, 1.0000e+00, 1.6310e-15],\n",
      "        [1.3762e-01, 1.7615e-02, 4.7033e-01, 1.4485e-01, 1.5065e-02, 8.9435e-03,\n",
      "         1.5977e-01, 1.6310e-15, 1.0000e+00]], grad_fn=<CopySlices>)\n",
      "Weight update complete...\n",
      "Component 9:\n",
      "Hellinger Dist Sq: tensor(0.0066, grad_fn=<RsubBackward1>)\n",
      "Params:{'mus': tensor([[ 0.9936],\n",
      "        [ 6.7945],\n",
      "        [-2.0881],\n",
      "        [-6.5450],\n",
      "        [ 5.2216],\n",
      "        [ 1.1922],\n",
      "        [-0.4320],\n",
      "        [ 2.8596],\n",
      "        [-1.4535]], grad_fn=<SliceBackward>), 'sigmas': tensor([[1.0026],\n",
      "        [5.4690],\n",
      "        [2.0460],\n",
      "        [6.9754],\n",
      "        [3.2690],\n",
      "        [0.3657],\n",
      "        [0.1195],\n",
      "        [0.1056],\n",
      "        [0.0313]], grad_fn=<ExpBackward>)}\n",
      "Weights: tensor([1.0788e-05, 4.8801e-07, 6.3687e-02, 4.5007e-02, 8.2230e-02, 7.9775e-01,\n",
      "        2.6260e-01, 1.4503e-01, 3.8664e-02], grad_fn=<MaxBackward2>)\n",
      "Initializing component 10... \n",
      "          Iteration           |          Best param          |        Best objective        \n",
      "              0               |tensor([-0.5383, -0.0052], grad_fn=<CatBackward>)|             inf              \n",
      "              99              |tensor([ 0.1664, -3.0667], grad_fn=<CatBackward>)|tensor(3.2386, grad_fn=<NegBackward>)\n",
      "Initialization of component 10 complete, x0 = tensor([ 0.1664, -3.0667], grad_fn=<CatBackward>)\n",
      "Optimizing component 10... \n",
      "Optimization of component 10 complete\n",
      "Updating weights...\n",
      "tensor([[1.0000e+00, 2.3185e-01, 4.4490e-01, 1.3719e-01, 3.2340e-01, 9.3402e-01,\n",
      "         4.9949e-01, 3.4937e-01, 1.3762e-01, 4.3840e-01],\n",
      "        [2.3185e-01, 1.0000e+00, 6.8365e-02, 2.7919e-02, 9.1653e-01, 1.8143e-01,\n",
      "         5.2018e-02, 2.6077e-01, 1.7615e-02, 4.7830e-02],\n",
      "        [4.4490e-01, 6.8365e-02, 1.0000e+00, 5.2774e-01, 7.9912e-02, 2.7761e-01,\n",
      "         4.9241e-01, 3.8240e-02, 4.7033e-01, 2.0205e-01],\n",
      "        [1.3719e-01, 2.7919e-02, 5.2774e-01, 1.0000e+00, 3.2915e-02, 8.5885e-02,\n",
      "         1.3597e-01, 2.1684e-02, 1.4485e-01, 5.5878e-02],\n",
      "        [3.2340e-01, 9.1653e-01, 7.9912e-02, 3.2915e-02, 1.0000e+00, 2.5390e-01,\n",
      "         5.7459e-02, 3.9034e-01, 1.5065e-02, 5.9069e-02],\n",
      "        [9.3402e-01, 1.8143e-01, 2.7761e-01, 8.5885e-02, 2.5390e-01, 1.0000e+00,\n",
      "         2.3847e-01, 2.0897e-01, 8.9435e-03, 3.8051e-01],\n",
      "        [4.9949e-01, 5.2018e-02, 4.9241e-01, 1.3597e-01, 5.7459e-02, 2.3847e-01,\n",
      "         1.0000e+00, 5.9574e-06, 1.5977e-01, 2.6908e-01],\n",
      "        [3.4937e-01, 2.6077e-01, 3.8240e-02, 2.1684e-02, 3.9034e-01, 2.0897e-01,\n",
      "         5.9574e-06, 1.0000e+00, 1.6310e-15, 1.3466e-06],\n",
      "        [1.3762e-01, 1.7615e-02, 4.7033e-01, 1.4485e-01, 1.5065e-02, 8.9435e-03,\n",
      "         1.5977e-01, 1.6310e-15, 1.0000e+00, 3.1168e-08],\n",
      "        [4.3840e-01, 4.7830e-02, 2.0205e-01, 5.5878e-02, 5.9069e-02, 3.8051e-01,\n",
      "         2.6908e-01, 1.3466e-06, 3.1168e-08, 1.0000e+00]],\n",
      "       grad_fn=<CopySlices>)\n",
      "Weight update complete...\n",
      "Component 10:\n",
      "Hellinger Dist Sq: tensor(0.0077, grad_fn=<RsubBackward1>)\n",
      "Params:{'mus': tensor([[ 0.9936],\n",
      "        [ 6.7945],\n",
      "        [-2.0881],\n",
      "        [-6.5450],\n",
      "        [ 5.2216],\n",
      "        [ 1.1922],\n",
      "        [-0.4320],\n",
      "        [ 2.8596],\n",
      "        [-1.4535],\n",
      "        [ 0.3288]], grad_fn=<SliceBackward>), 'sigmas': tensor([[1.0026],\n",
      "        [5.4690],\n",
      "        [2.0460],\n",
      "        [6.9754],\n",
      "        [3.2690],\n",
      "        [0.3657],\n",
      "        [0.1195],\n",
      "        [0.1056],\n",
      "        [0.0313],\n",
      "        [0.0147]], grad_fn=<ExpBackward>)}\n",
      "Weights: tensor([0.0000, 0.0000, 0.0604, 0.0460, 0.0829, 0.7804, 0.2542, 0.1482, 0.0414,\n",
      "        0.0485], grad_fn=<MaxBackward2>)\n"
     ]
    },
    {
     "data": {
      "text/plain": [
       "{'mus': tensor([[ 0.9936],\n",
       "         [ 1.8923],\n",
       "         [-0.0199],\n",
       "         [ 0.0462],\n",
       "         [ 1.9860],\n",
       "         [ 1.1391],\n",
       "         [-0.2801],\n",
       "         [ 2.6818],\n",
       "         [-1.3794],\n",
       "         [ 0.3384],\n",
       "         [ 1.8923],\n",
       "         [ 6.7945],\n",
       "         [ 0.3302],\n",
       "         [ 0.9321],\n",
       "         [ 5.8100],\n",
       "         [ 1.5433],\n",
       "         [-0.2774],\n",
       "         [ 2.9341],\n",
       "         [-1.4066],\n",
       "         [ 0.3461],\n",
       "         [-0.0199],\n",
       "         [ 0.3302],\n",
       "         [-2.0881],\n",
       "         [-3.0989],\n",
       "         [ 0.7258],\n",
       "         [ 0.6948],\n",
       "         [-0.5234],\n",
       "         [ 2.6167],\n",
       "         [-1.4631],\n",
       "         [ 0.3115],\n",
       "         [ 0.0462],\n",
       "         [ 0.9321],\n",
       "         [-3.0989],\n",
       "         [-6.5450],\n",
       "         [ 1.4669],\n",
       "         [ 0.8068],\n",
       "         [-0.5350],\n",
       "         [ 2.7193],\n",
       "         [-1.4763],\n",
       "         [ 0.3143],\n",
       "         [ 1.9860],\n",
       "         [ 5.8100],\n",
       "         [ 0.7258],\n",
       "         [ 1.4669],\n",
       "         [ 5.2216],\n",
       "         [ 1.5976],\n",
       "         [-0.2325],\n",
       "         [ 2.9335],\n",
       "         [-1.3902],\n",
       "         [ 0.3507],\n",
       "         [ 1.1391],\n",
       "         [ 1.5433],\n",
       "         [ 0.6948],\n",
       "         [ 0.8068],\n",
       "         [ 1.5976],\n",
       "         [ 1.1922],\n",
       "         [-0.0318],\n",
       "         [ 2.4859],\n",
       "         [-1.2448],\n",
       "         [ 0.3622],\n",
       "         [-0.2801],\n",
       "         [-0.2774],\n",
       "         [-0.5234],\n",
       "         [-0.5350],\n",
       "         [-0.2325],\n",
       "         [-0.0318],\n",
       "         [-0.4320],\n",
       "         [ 1.3156],\n",
       "         [-1.2414],\n",
       "         [ 0.2454],\n",
       "         [ 2.6818],\n",
       "         [ 2.9341],\n",
       "         [ 2.6167],\n",
       "         [ 2.7193],\n",
       "         [ 2.9335],\n",
       "         [ 2.4859],\n",
       "         [ 1.3156],\n",
       "         [ 2.8596],\n",
       "         [-0.4670],\n",
       "         [ 0.6383],\n",
       "         [-1.3794],\n",
       "         [-1.4066],\n",
       "         [-1.4631],\n",
       "         [-1.4763],\n",
       "         [-1.3902],\n",
       "         [-1.2448],\n",
       "         [-1.2414],\n",
       "         [-0.4670],\n",
       "         [-1.4535],\n",
       "         [-0.2410],\n",
       "         [ 0.3384],\n",
       "         [ 0.3461],\n",
       "         [ 0.3115],\n",
       "         [ 0.3143],\n",
       "         [ 0.3507],\n",
       "         [ 0.3622],\n",
       "         [ 0.2454],\n",
       "         [ 0.6383],\n",
       "         [-0.2410],\n",
       "         [ 0.3288]], grad_fn=<SliceBackward>), 'sigmas': tensor([[1.0026],\n",
       "         [1.6946],\n",
       "         [1.3457],\n",
       "         [1.7532],\n",
       "         [1.5346],\n",
       "         [0.5359],\n",
       "         [0.2136],\n",
       "         [0.1911],\n",
       "         [0.0607],\n",
       "         [0.0290],\n",
       "         [1.6946],\n",
       "         [5.4690],\n",
       "         [2.9779],\n",
       "         [6.1310],\n",
       "         [4.0920],\n",
       "         [0.6855],\n",
       "         [0.2340],\n",
       "         [0.2072],\n",
       "         [0.0623],\n",
       "         [0.0294],\n",
       "         [1.3457],\n",
       "         [2.9779],\n",
       "         [2.0460],\n",
       "         [3.1639],\n",
       "         [2.5168],\n",
       "         [0.6205],\n",
       "         [0.2259],\n",
       "         [0.2009],\n",
       "         [0.0617],\n",
       "         [0.0292],\n",
       "         [1.7532],\n",
       "         [6.1310],\n",
       "         [3.1639],\n",
       "         [6.9754],\n",
       "         [4.4517],\n",
       "         [0.6949],\n",
       "         [0.2350],\n",
       "         [0.2081],\n",
       "         [0.0624],\n",
       "         [0.0294],\n",
       "         [1.5346],\n",
       "         [4.0920],\n",
       "         [2.5168],\n",
       "         [4.4517],\n",
       "         [3.2690],\n",
       "         [0.6578],\n",
       "         [0.2306],\n",
       "         [0.2046],\n",
       "         [0.0620],\n",
       "         [0.0293],\n",
       "         [0.5359],\n",
       "         [0.6855],\n",
       "         [0.6205],\n",
       "         [0.6949],\n",
       "         [0.6578],\n",
       "         [0.3657],\n",
       "         [0.1802],\n",
       "         [0.1639],\n",
       "         [0.0577],\n",
       "         [0.0283],\n",
       "         [0.2136],\n",
       "         [0.2340],\n",
       "         [0.2259],\n",
       "         [0.2350],\n",
       "         [0.2306],\n",
       "         [0.1802],\n",
       "         [0.1195],\n",
       "         [0.1121],\n",
       "         [0.0496],\n",
       "         [0.0262],\n",
       "         [0.1911],\n",
       "         [0.2072],\n",
       "         [0.2009],\n",
       "         [0.2081],\n",
       "         [0.2046],\n",
       "         [0.1639],\n",
       "         [0.1121],\n",
       "         [0.1056],\n",
       "         [0.0483],\n",
       "         [0.0258],\n",
       "         [0.0607],\n",
       "         [0.0623],\n",
       "         [0.0617],\n",
       "         [0.0624],\n",
       "         [0.0620],\n",
       "         [0.0577],\n",
       "         [0.0496],\n",
       "         [0.0483],\n",
       "         [0.0313],\n",
       "         [0.0200],\n",
       "         [0.0290],\n",
       "         [0.0294],\n",
       "         [0.0292],\n",
       "         [0.0294],\n",
       "         [0.0293],\n",
       "         [0.0283],\n",
       "         [0.0262],\n",
       "         [0.0258],\n",
       "         [0.0200],\n",
       "         [0.0147]], grad_fn=<ExpBackward>), 'weights': tensor([0.0000e+00, 0.0000e+00, 0.0000e+00, 0.0000e+00, 0.0000e+00, 0.0000e+00,\n",
       "         0.0000e+00, 0.0000e+00, 0.0000e+00, 0.0000e+00, 0.0000e+00, 0.0000e+00,\n",
       "         0.0000e+00, 0.0000e+00, 0.0000e+00, 0.0000e+00, 0.0000e+00, 0.0000e+00,\n",
       "         0.0000e+00, 0.0000e+00, 0.0000e+00, 0.0000e+00, 3.6478e-03, 1.4658e-03,\n",
       "         3.9995e-04, 1.3085e-02, 7.5609e-03, 3.4223e-04, 1.1770e-03, 5.9132e-04,\n",
       "         0.0000e+00, 0.0000e+00, 1.4658e-03, 2.1149e-03, 1.2543e-04, 3.0824e-03,\n",
       "         1.5897e-03, 1.4776e-04, 2.7600e-04, 1.2452e-04, 0.0000e+00, 0.0000e+00,\n",
       "         3.9995e-04, 1.2543e-04, 6.8668e-03, 1.6420e-02, 1.2105e-03, 4.7930e-03,\n",
       "         5.1724e-05, 2.3719e-04, 0.0000e+00, 0.0000e+00, 1.3085e-02, 3.0824e-03,\n",
       "         1.6420e-02, 6.0904e-01, 4.7315e-02, 2.4165e-02, 2.8919e-04, 1.4389e-02,\n",
       "         0.0000e+00, 0.0000e+00, 7.5609e-03, 1.5897e-03, 1.2105e-03, 4.7315e-02,\n",
       "         6.4635e-02, 2.2443e-07, 1.6830e-03, 3.3149e-03, 0.0000e+00, 0.0000e+00,\n",
       "         3.4223e-04, 1.4776e-04, 4.7930e-03, 2.4165e-02, 2.2443e-07, 2.1957e-02,\n",
       "         1.0014e-17, 9.6688e-09, 0.0000e+00, 0.0000e+00, 1.1770e-03, 2.7600e-04,\n",
       "         5.1724e-05, 2.8919e-04, 1.6830e-03, 1.0014e-17, 1.7167e-03, 6.2577e-11,\n",
       "         0.0000e+00, 0.0000e+00, 5.9132e-04, 1.2452e-04, 2.3719e-04, 1.4389e-02,\n",
       "         3.3149e-03, 9.6688e-09, 6.2577e-11, 2.3480e-03],\n",
       "        grad_fn=<AsStridedBackward>), 'obj': tensor(0.0077, grad_fn=<RsubBackward1>)}"
      ]
     },
     "execution_count": 11,
     "metadata": {},
     "output_type": "execute_result"
    }
   ],
   "source": [
    "test.build(10)"
   ]
  },
  {
   "cell_type": "code",
   "execution_count": 22,
   "metadata": {},
   "outputs": [
    {
     "data": {
      "image/png": "[encoded data removed]",
      "text/plain": [
       "<Figure size 720x720 with 1 Axes>"
      ]
     },
     "metadata": {
      "needs_background": "light"
     },
     "output_type": "display_data"
    }
   ],
   "source": [
    "samples = test._sample_g(100000).detach().numpy().flatten()\n",
    "\n",
    "plt.figure(figsize=(10, 10))\n",
    "\n",
    "plt.hist(samples, density=True, bins=400, range=[-2, 5])\n",
    "\n",
    "grid = np.linspace(-2, 5, 100)\n",
    "plt.plot(grid, (1 / np.sqrt(2 * np.pi)) * np.exp(-(grid - 1) ** 2 / 2))\n",
    "\n",
    "plt.title('Boosting standard normal with gaussians')\n",
    "plt.ylabel(r'$p$')\n",
    "plt.xlabel(r'$x$')\n",
    "\n",
    "plt.show()"
   ]
  },
  {
   "cell_type": "code",
   "execution_count": 66,
   "metadata": {},
   "outputs": [],
   "source": []
  },
  {
   "cell_type": "code",
   "execution_count": 71,
   "metadata": {},
   "outputs": [],
   "source": []
  },
  {
   "cell_type": "code",
   "execution_count": 73,
   "metadata": {},
   "outputs": [],
   "source": []
  },
  {
   "cell_type": "code",
   "execution_count": null,
   "metadata": {},
   "outputs": [],
   "source": []
  },
  {
   "cell_type": "code",
   "execution_count": null,
   "metadata": {},
   "outputs": [],
   "source": []
  },
  {
   "cell_type": "code",
   "execution_count": null,
   "metadata": {},
   "outputs": [],
   "source": []
  },
  {
   "cell_type": "code",
   "execution_count": null,
   "metadata": {},
   "outputs": [],
   "source": []
  },
  {
   "cell_type": "code",
   "execution_count": null,
   "metadata": {},
   "outputs": [],
   "source": []
  },
  {
   "cell_type": "code",
   "execution_count": null,
   "metadata": {},
   "outputs": [],
   "source": []
  },
  {
   "cell_type": "code",
   "execution_count": 10,
   "metadata": {},
   "outputs": [],
   "source": [
    "test_b = torch.tensor([2, 3])"
   ]
  },
  {
   "cell_type": "code",
   "execution_count": 11,
   "metadata": {},
   "outputs": [
    {
     "data": {
      "text/plain": [
       "tensor([[2, 3],\n",
       "        [2, 3]])"
      ]
     },
     "execution_count": 11,
     "metadata": {},
     "output_type": "execute_result"
    }
   ],
   "source": [
    "test_b.expand_as(test_a)"
   ]
  },
  {
   "cell_type": "code",
   "execution_count": 10,
   "metadata": {},
   "outputs": [
    {
     "data": {
      "text/plain": [
       "tensor(3.)"
      ]
     },
     "execution_count": 10,
     "metadata": {},
     "output_type": "execute_result"
    }
   ],
   "source": [
    "torch.tensor(3, dtype=torch.float32)"
   ]
  },
  {
   "cell_type": "code",
   "execution_count": 15,
   "metadata": {},
   "outputs": [],
   "source": [
    "test = torch.tensor([1., 2])"
   ]
  },
  {
   "cell_type": "code",
   "execution_count": 16,
   "metadata": {},
   "outputs": [
    {
     "data": {
      "text/plain": [
       "False"
      ]
     },
     "execution_count": 16,
     "metadata": {},
     "output_type": "execute_result"
    }
   ],
   "source": [
    "test.requires_grad"
   ]
  },
  {
   "cell_type": "code",
   "execution_count": 17,
   "metadata": {},
   "outputs": [
    {
     "data": {
      "text/plain": [
       "tensor([1., 2.], requires_grad=True)"
      ]
     },
     "execution_count": 17,
     "metadata": {},
     "output_type": "execute_result"
    }
   ],
   "source": [
    "test.requires_grad_()"
   ]
  },
  {
   "cell_type": "code",
   "execution_count": 18,
   "metadata": {},
   "outputs": [
    {
     "data": {
      "text/plain": [
       "True"
      ]
     },
     "execution_count": 18,
     "metadata": {},
     "output_type": "execute_result"
    }
   ],
   "source": [
    "test.requires_grad"
   ]
  },
  {
   "cell_type": "code",
   "execution_count": 8,
   "metadata": {},
   "outputs": [],
   "source": [
    "x = torch.tensor([[1., 2], [2, 3]], requires_grad=True)"
   ]
  },
  {
   "cell_type": "code",
   "execution_count": 9,
   "metadata": {},
   "outputs": [
    {
     "data": {
      "text/plain": [
       "Adam (\n",
       "Parameter Group 0\n",
       "    amsgrad: False\n",
       "    betas: (0.9, 0.999)\n",
       "    eps: 1e-08\n",
       "    lr: 0.001\n",
       "    weight_decay: 0\n",
       ")"
      ]
     },
     "execution_count": 9,
     "metadata": {},
     "output_type": "execute_result"
    }
   ],
   "source": [
    "torch.optim.Adam([x])"
   ]
  },
  {
   "cell_type": "code",
   "execution_count": 9,
   "metadata": {},
   "outputs": [
    {
     "ename": "RuntimeError",
     "evalue": "1D tensors expected, got 2D, 1D tensors at ../aten/src/TH/generic/THTensorEvenMoreMath.cpp:774",
     "output_type": "error",
     "traceback": [
      "\u001b[0;31m---------------------------------------------------------------------------\u001b[0m",
      "\u001b[0;31mRuntimeError\u001b[0m                              Traceback (most recent call last)",
      "\u001b[0;32m<ipython-input-9-84ddcd0058d4>\u001b[0m in \u001b[0;36m<module>\u001b[0;34m\u001b[0m\n\u001b[0;32m----> 1\u001b[0;31m \u001b[0mx\u001b[0m\u001b[0;34m.\u001b[0m\u001b[0mdot\u001b[0m\u001b[0;34m(\u001b[0m\u001b[0mtorch\u001b[0m\u001b[0;34m.\u001b[0m\u001b[0mTensor\u001b[0m\u001b[0;34m(\u001b[0m\u001b[0;34m[\u001b[0m\u001b[0;36m1\u001b[0m\u001b[0;34m,\u001b[0m \u001b[0;36m2\u001b[0m\u001b[0;34m]\u001b[0m\u001b[0;34m)\u001b[0m\u001b[0;34m)\u001b[0m\u001b[0;34m\u001b[0m\u001b[0;34m\u001b[0m\u001b[0m\n\u001b[0m",
      "\u001b[0;31mRuntimeError\u001b[0m: 1D tensors expected, got 2D, 1D tensors at ../aten/src/TH/generic/THTensorEvenMoreMath.cpp:774"
     ]
    }
   ],
   "source": [
    "x.dot(torch.Tensor([1, 2]))"
   ]
  },
  {
   "cell_type": "code",
   "execution_count": null,
   "metadata": {},
   "outputs": [],
   "source": []
  }
 ],
 "metadata": {
  "kernelspec": {
   "display_name": "Python 3",
   "language": "python",
   "name": "python3"
  },
  "language_info": {
   "codemirror_mode": {
    "name": "ipython",
    "version": 3
   },
   "file_extension": ".py",
   "mimetype": "text/x-python",
   "name": "python",
   "nbconvert_exporter": "python",
   "pygments_lexer": "ipython3",
   "version": "3.7.4"
  }
 },
 "nbformat": 4,
 "nbformat_minor": 2
}
